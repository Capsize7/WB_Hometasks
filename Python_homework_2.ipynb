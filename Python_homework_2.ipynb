{
 "cells": [
  {
   "cell_type": "markdown",
   "metadata": {},
   "source": [
    "Домашнее задание numpy \n",
    "список вариантов по фамилиям: \n",
    "\n",
    "Егор Бобошко - 1 вариант \n",
    "\n",
    "Тарон Вирабян - 2 вариант \n",
    "\n",
    "Эрик Гарифуллин - 3 вариант \n",
    "\n",
    "Дмитрий Гусаров - 4 вариант \n",
    "\n",
    "Даниил Жданов - 5 вариант \n",
    "\n",
    "Даниил Иванов - 6 вариант \n",
    "\n",
    "Никита Иващенко -  7 вариант \n",
    "\n",
    "Роман Кислинский - 8 вариант \n",
    "\n",
    "Семен Квасенко - 9 вариант \n",
    "\n",
    "Евгений Кушаков - 10 вариант \n",
    "\n",
    "Денис Култушев - 11 вариант \n",
    "\n",
    "Тимур Мендгалиев - 12 вариант \n",
    "\n",
    "Иван Насонов - 13 вариант \n",
    "\n",
    "Андрей Овсянов - 14 вариант \n",
    "\n",
    "Афина Подерни - 15 вариант \n",
    "\n",
    "Анна Павликова - 16 вариант \n",
    "\n",
    "Людмила Петрашко - 17 вариант \n",
    "\n",
    "Дарья Урядова - 18 вариант \n",
    "\n",
    "Максим Чеботарев - 19 вариант \n",
    "\n",
    "Кирилл Чернов - 20 вариант \n",
    "\n",
    "Никита Щиголев - 21 вариант \n",
    "\n",
    "Илья Цыганов - 22 вариант \n"
   ]
  },
  {
   "cell_type": "markdown",
   "metadata": {},
   "source": [
    "<h1>Задание 1</h1>\n",
    "\n",
    "На маркетплейсе есть огромный объем данных содержащий записи о продажах различных продуктов. Наша цель — рассчитать общий доход, полученный от каждого продукта за определённый период. \n",
    "\n",
    "Необходимо решить задачу через классический python, numpy и numpy с использованием векторизации\n",
    "\n",
    "\n",
    "Данные: \n",
    "products = ['автомобиль HAVAL', 'обувь', 'одежда', 'телефоны'] (при решении через numpy необходимо представить это в виде np.array() )\n",
    "prices = [20000, 3000, 45600, 5000] (при решении через numpy необходимо представить это в виде np.array() ) \n",
    "\n",
    "Данные о продажах необходимо сгенерировать самостоятельно и вывести в одном параграфов в ноутбуке, ниже приведен пример генерации случайных значений "
   ]
  },
  {
   "cell_type": "markdown",
   "metadata": {},
   "source": [
    "Данные в различных реализациях должны совпадать."
   ]
  },
  {
   "cell_type": "markdown",
   "metadata": {},
   "source": [
    "После генерации необходимо сравнить доход от каждого продукта и время на выполнение. "
   ]
  },
  {
   "cell_type": "code",
   "execution_count": null,
   "metadata": {},
   "outputs": [],
   "source": [
    "import random\n",
    "import numpy as np\n",
    "import csv\n",
    "import matplotlib.pyplot as plt"
   ]
  },
  {
   "cell_type": "markdown",
   "metadata": {},
   "source": [
    "**Пример на чистом Python**"
   ]
  },
  {
   "cell_type": "code",
   "execution_count": null,
   "metadata": {},
   "outputs": [],
   "source": [
    "random.seed(8)\n",
    "\n",
    "variant = 8 # подставьте номер своего  варианта\n",
    "all_sales = [[random.randint(0, variant+100) for i in range(100_000)] for _ in range(4)]\n",
    "products = ['автомобиль HAVAL', 'обувь', 'одежда', 'телефоны'] \n",
    "prices = [20000, 3000, 45600, 5000]\n",
    "\n",
    "def get_rows(products, prices, all_sales):\n",
    "    result = []\n",
    "    for product, price, sales in zip(products, prices, all_sales):\n",
    "        res_summ = 0\n",
    "        for i in sales:\n",
    "            res_summ += price * i\n",
    "        result.append((product, res_summ))\n",
    "    return result\n",
    "\n",
    "for i in get_rows(products, prices, all_sales):\n",
    "    print(f'Для товара - \"{i[0]}\" сумма заказов составила: {i[1]}')\n",
    "%timeit get_rows(products, prices, all_sales)\n",
    "\n"
   ]
  },
  {
   "cell_type": "markdown",
   "metadata": {},
   "source": [
    "**Пример на Numpy**"
   ]
  },
  {
   "cell_type": "code",
   "execution_count": null,
   "metadata": {},
   "outputs": [],
   "source": [
    "random.seed(8)\n",
    "\n",
    "variant = 8 # подставьте номер своего  варианта\n",
    "all_sales = np.array([[random.randint(0, variant+100) for i in range(100_000)] for _ in range(4)], dtype='int64')\n",
    "products = np.array(['автомобиль HAVAL', 'обувь', 'одежда', 'телефоны'])\n",
    "prices = np.array([[20000], [3000], [45600], [5000]])\n",
    "\n",
    "results = np.sum(all_sales*prices, axis=1)\n",
    "\n",
    "for i in range(len(products)):\n",
    "    print(f'Для товара - \"{products[i]}\" сумма заказов составила: {results[i]}')\n",
    "\n",
    "%timeit np.sum(all_sales*prices, axis=1)\n"
   ]
  },
  {
   "cell_type": "markdown",
   "metadata": {},
   "source": [
    "**Пример на Numpy с векторизацией**"
   ]
  },
  {
   "cell_type": "code",
   "execution_count": null,
   "metadata": {},
   "outputs": [],
   "source": [
    "random.seed(8)\n",
    "\n",
    "variant = 8 # подставьте номер своего  варианта\n",
    "all_sales = np.array([[random.randint(0, variant+100) for i in range(100_000)] for _ in range(4)], dtype='int64')\n",
    "products = np.array(['автомобиль HAVAL', 'обувь', 'одежда', 'телефоны'])\n",
    "prices = np.array([20000, 3000, 45600, 5000])\n",
    "\n",
    "results = all_sales.sum(1) * prices\n",
    "\n",
    "for i in range(len(products)):\n",
    "    print(f'Для товара - \"{products[i]}\" сумма заказов составила: {results[i]}')\n",
    "    \n",
    "%timeit all_sales.sum(1) * prices"
   ]
  },
  {
   "cell_type": "markdown",
   "metadata": {},
   "source": [
    "<h1>Задание 2</h1>"
   ]
  },
  {
   "cell_type": "markdown",
   "metadata": {},
   "source": [
    "Необходимо написать с использованием numpy реализацию одного из следующих алгоритмов: \n",
    "\n",
    "- heapsort (вариант: 1,5,9,13,17,21)\n",
    "\n",
    "- mergesort (вариант: 2,6,10,14,18,22)\n",
    "\n",
    "- stable (вариант: 3,7,11,15,19)\n",
    "\n",
    "- quicksort (вариант: 4,8,12,16,20) \n",
    "\n",
    "Сравнить скорость выполнения этих алгоритмов на чистом python, вашей реализации и numpy.sort() "
   ]
  },
  {
   "cell_type": "markdown",
   "metadata": {},
   "source": [
    "**Реализация встроенной сортировки на чистом python:**"
   ]
  },
  {
   "cell_type": "code",
   "execution_count": null,
   "metadata": {},
   "outputs": [],
   "source": [
    "random.seed(8)\n",
    "array = [random.randint(-108, 108) for _ in range(1_000)]\n",
    "%timeit sorted(array)"
   ]
  },
  {
   "cell_type": "markdown",
   "metadata": {},
   "source": [
    "**Реализация собственной quicksort сортировки на чистом python:**"
   ]
  },
  {
   "cell_type": "code",
   "execution_count": null,
   "metadata": {},
   "outputs": [],
   "source": [
    "random.seed(8)\n",
    "array = [random.randint(-108, 108) for _ in range(1_000)]\n",
    "\n",
    "def quicksort(A, l=0, r=None):\n",
    "    if r is None:\n",
    "        r = len(A)\n",
    "    while l < r:\n",
    "        m = partition(A, l, r)\n",
    "        quicksort(A, l, m)\n",
    "        l = m + 1\n",
    "            \n",
    "def partition(A, l ,r):\n",
    "    A[l], A[(l+r)//2] = A[(l+r)//2], A[l]\n",
    "    x = A[l]\n",
    "    j = l\n",
    "    for i in range(l+1, r):\n",
    "        if A[i] < x:\n",
    "            j += 1\n",
    "            A[i], A[j] = A[j], A[i]\n",
    "    A[l], A[j] = A[j], A[l]\n",
    "    return j\n",
    "\n",
    "%timeit quicksort(array)\n",
    "array == sorted(array)"
   ]
  },
  {
   "cell_type": "markdown",
   "metadata": {},
   "source": [
    "**Реализация собственной quicksort сортировки на Numpy:**"
   ]
  },
  {
   "cell_type": "code",
   "execution_count": null,
   "metadata": {},
   "outputs": [],
   "source": [
    "random.seed(8)\n",
    "array = np.array([random.randint(-108, 108) for _ in range(1_000)])\n",
    "\n",
    "def quicksort(nums):\n",
    "    if len(nums) < 1:\n",
    "        return []\n",
    "    if len(nums) == 1:\n",
    "        return nums\n",
    "        \n",
    "    p = nums[len(nums)//2]\n",
    "        \n",
    "    return np.concatenate([quicksort(nums[nums < p]), \n",
    "                            nums[nums == p], \n",
    "                            quicksort(nums[nums > p])])\n",
    "%timeit quicksort(array)\n",
    "np.array_equal(np.sort(array), quicksort(array))"
   ]
  },
  {
   "cell_type": "markdown",
   "metadata": {},
   "source": [
    "**Реализация встроенной сортировки на Numpy:**"
   ]
  },
  {
   "cell_type": "code",
   "execution_count": null,
   "metadata": {},
   "outputs": [],
   "source": [
    "random.seed(8)\n",
    "array = np.array([random.randint(-108, 108) for _ in range(1_000)])\n",
    "\n",
    "%timeit np.sort(array, kind=\"quicksort\")"
   ]
  },
  {
   "cell_type": "markdown",
   "metadata": {
    "tags": []
   },
   "source": [
    "<h1>Задание 3</h1> \n",
    "\n",
    "У нас есть данные о потреблении алкоголя о потреблнеии Алкоголя в мире https://github.com/fivethirtyeight/data/tree/master/alcohol-consumption. \n",
    "\n",
    "Давайте представим эти данные в виде структурированных массивов и определим, где же люди пьют больше вина, пива и других спиртных напитков."
   ]
  },
  {
   "cell_type": "code",
   "execution_count": null,
   "metadata": {},
   "outputs": [],
   "source": [
    "with open('drinks.csv', 'r') as file:\n",
    "    header, *rows = list(csv.reader(file))\n",
    "    country, beer_servings, spirit_servings, wine_servings, total_litres_of_pure_alcohol = list(zip(*rows))\n",
    "\n",
    "data = np.zeros(\n",
    "    len(country),\n",
    "    dtype={\n",
    "        \"names\": header,\n",
    "        \"formats\": [\"U16\", \"int16\", \"int16\", \"int16\", \"float16\"]\n",
    "    }\n",
    ")\n",
    "\n",
    "data[\"country\"] = country\n",
    "data[\"beer_servings\"] = beer_servings\n",
    "data[\"spirit_servings\"] = spirit_servings\n",
    "data[\"wine_servings\"] = wine_servings\n",
    "data[\"total_litres_of_pure_alcohol\"] = total_litres_of_pure_alcohol\n",
    "                            \n",
    "print(f\"Больше всего пива пьют в {data[data['beer_servings'] == data['beer_servings'].max()]['country'][0]}\")\n",
    "print(f\"Больше всего вина пьют в {data[data['wine_servings'] == data['wine_servings'].max()]['country'][0]}\")\n",
    "print(f\"Больше всего алкогольных напитков пьют в {data[data['spirit_servings'] == data['spirit_servings'].max()]['country'][0]}\")\n",
    "print(f\"Самое большое употребление чистого алкоголя в \\\n",
    "{data[data['total_litres_of_pure_alcohol'] == data['total_litres_of_pure_alcohol'].max()]['country'][0]}\")\n",
    "\n"
   ]
  },
  {
   "cell_type": "markdown",
   "metadata": {
    "tags": []
   },
   "source": [
    "<h1>Задание 4</h1> \n",
    "\n",
    "У нас есть Полный каталог всех случаев, когда кто-то проклинал или истекал кровью в фильме Квентина Тарантино. https://github.com/fivethirtyeight/data/tree/master/tarantino\n",
    "\n",
    "Давайте представим эти данные в виде структурированных массивов и определим:\n",
    "\n",
    "- число проклятий, летальных исходов и их отношение по фильмам \n",
    "\n",
    "- частота употребления конкретных прокрятий \n",
    "\n",
    "- распределение времени между проклятиями "
   ]
  },
  {
   "cell_type": "code",
   "execution_count": null,
   "metadata": {},
   "outputs": [],
   "source": [
    "with open('tarantino.csv', 'r') as file:\n",
    "    header, *rows = list(csv.reader(file))\n",
    "    movie, type_, word, minutes_in = list(zip(*rows))\n",
    "\n",
    "data = np.zeros(\n",
    "    len(movie),\n",
    "    dtype={\n",
    "        \"names\": header,\n",
    "        \"formats\": [\"U16\", \"U16\", \"U16\", \"float16\"]\n",
    "    }\n",
    ")\n",
    "\n",
    "data[\"movie\"], data['type'], data['word'], data[\"minutes_in\"] = movie, type_, word, minutes_in\n",
    "unique_type, counts_type = np.unique(data['type'], return_counts=True)\n",
    "unique_word, counts_word = np.unique(data['word'], return_counts=True)\n",
    "\n",
    "for type, count in zip(unique_type, counts_type):\n",
    "    print(f'Количество {'проклятий' if type == 'word' else 'смертей'} = {count}')\n",
    "print(f'Отношение количества проклятий к смертям = {round(counts_type[1]/counts_type[0])}')\n",
    "\n",
    "for word, count in zip(unique_word, counts_word):\n",
    "    if word:\n",
    "        print(f'Проклятие - \"{word}\" было употреблено в количестве {count}')\n",
    "\n",
    "plt.hist(data[data['type'] == 'word']['minutes_in'], bins=list(range(0, int(data['minutes_in'].max()+1), 5)), alpha=0.8)\n",
    "\n",
    "plt.xlabel('Film`s minute')\n",
    "plt.ylabel('Count of words')\n",
    "plt.title('Histogram of words')\n",
    "plt.minorticks_on()\n",
    "plt.grid(which='major')\n",
    "plt.grid(which='minor', linestyle=':')\n"
   ]
  }
 ],
 "metadata": {
  "kernelspec": {
   "display_name": "Python 3 (ipykernel)",
   "language": "python",
   "name": "python3"
  },
  "language_info": {
   "codemirror_mode": {
    "name": "ipython",
    "version": 3
   },
   "file_extension": ".py",
   "mimetype": "text/x-python",
   "name": "python",
   "nbconvert_exporter": "python",
   "pygments_lexer": "ipython3",
   "version": "3.12.0"
  }
 },
 "nbformat": 4,
 "nbformat_minor": 4
}
