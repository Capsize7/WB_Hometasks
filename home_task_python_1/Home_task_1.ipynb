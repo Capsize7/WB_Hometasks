{
 "cells": [
  {
   "cell_type": "code",
   "execution_count": 13,
   "id": "5d15f47c-a0ab-4231-a043-e765960a19d2",
   "metadata": {},
   "outputs": [
    {
     "name": "stdout",
     "output_type": "stream",
     "text": [
      "python = \"3.12.*\"\n",
      "--------------------\n",
      "numpy = \"^1.26.0\"\n",
      "--------------------\n",
      "pandas = \"^2.1.1\"\n",
      "--------------------\n",
      "jupyterlab = \"^4.0.6\"\n",
      "--------------------\n"
     ]
    }
   ],
   "source": [
    "with open('pyproject.toml', 'r') as f:\n",
    "    toml = f.readlines()\n",
    "    left = toml.index('[tool.poetry.dependencies]\\n')\n",
    "    right = toml.index('[build-system]\\n')\n",
    "    for i in toml[left+1:right-2]:\n",
    "        print(i.rstrip())\n",
    "        print('-'*20)"
   ]
  },
  {
   "cell_type": "code",
   "execution_count": null,
   "id": "d51d4228-43a1-493c-96b5-055150a17deb",
   "metadata": {},
   "outputs": [],
   "source": []
  }
 ],
 "metadata": {
  "kernelspec": {
   "display_name": "Python 3 (ipykernel)",
   "language": "python",
   "name": "python3"
  },
  "language_info": {
   "codemirror_mode": {
    "name": "ipython",
    "version": 3
   },
   "file_extension": ".py",
   "mimetype": "text/x-python",
   "name": "python",
   "nbconvert_exporter": "python",
   "pygments_lexer": "ipython3",
   "version": "3.12.0"
  }
 },
 "nbformat": 4,
 "nbformat_minor": 5
}
